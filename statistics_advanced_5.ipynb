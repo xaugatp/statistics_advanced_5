{
 "cells": [
  {
   "cell_type": "markdown",
   "metadata": {},
   "source": [
    "Q1. Calculate the 95% confidence interval for a sample of data with a mean of 50 and a standard deviation\n",
    "of 5 using Python. Interpret the results."
   ]
  },
  {
   "cell_type": "code",
   "execution_count": 3,
   "metadata": {},
   "outputs": [
    {
     "name": "stdout",
     "output_type": "stream",
     "text": [
      "The lower limit is 49.02001800772997\n",
      "The upper limit is 50.97998199227003\n",
      "We are 95% confident that the true population mean falls within the range 49.02001800772997 to 50.97998199227003\n"
     ]
    }
   ],
   "source": [
    "import scipy.stats as stats\n",
    "confidence_interval = 0.95\n",
    "mean = 50\n",
    "standard_deviation = 5\n",
    "sample_size = 100 #we are assuming the sample size to be 100\n",
    "critical_value = stats.norm.ppf((1+confidence_interval)/2)\n",
    "lower_limit = mean - critical_value * ((standard_deviation)/(sample_size**0.5))\n",
    "upper_limit = mean + critical_value * ((standard_deviation)/(sample_size**0.5))\n",
    "\n",
    "print(f'The lower limit is {lower_limit}')\n",
    "print(f'The upper limit is {upper_limit}')\n",
    "\n",
    "print(f'We are 95% confident that the true population mean falls within the range {lower_limit} to {upper_limit}')"
   ]
  },
  {
   "cell_type": "markdown",
   "metadata": {},
   "source": [
    "Q2. Conduct a chi-square goodness of fit test to determine if the distribution of colors of M&Ms in a bag\n",
    "matches the expected distribution of 20% blue, 20% orange, 20% green, 10% yellow, 10% red, and 20%\n",
    "brown. Use Python to perform the test with a significance level of 0.05."
   ]
  },
  {
   "cell_type": "code",
   "execution_count": 4,
   "metadata": {},
   "outputs": [
    {
     "name": "stdout",
     "output_type": "stream",
     "text": [
      "Chi-Square Statistics: 0.0\n",
      "P_value: 1.0\n",
      "Degree of Freedom: 0\n",
      "Expected Frequencies:[[10. 30. 25. 15. 10. 20.]] \n",
      "\n",
      "Test Result:\n",
      "Fail to reject the null hypothesis. The distribution matches the expected distribution.\n"
     ]
    }
   ],
   "source": [
    "import numpy as np \n",
    "from scipy.stats import chi2_contingency\n",
    "\n",
    "#observed frequencies\n",
    "#the values below are assumed values\n",
    "observed_frequencies = np.array([10,30,25,15,10,20])\n",
    "\n",
    "#Expected frequencies based on the given distribution\n",
    "expected_distribution = np.array([0.20,0.20,0.20,0.10,0.10,0.20])\n",
    "total_observation = np.sum(observed_frequencies)\n",
    "expected_frequencies = expected_distribution * total_observation\n",
    "\n",
    "#Perform the chi-square test\n",
    "chi2_stat, p_value, dof, expected = chi2_contingency([observed_frequencies])\n",
    "\n",
    "#Output the results\n",
    "print(f\"Chi-Square Statistics: {chi2_stat}\")\n",
    "print(f\"P_value: {p_value}\")\n",
    "print(f\"Degree of Freedom: {dof}\")\n",
    "print(f\"Expected Frequencies:{expected} \")\n",
    "\n",
    "# Check significance\n",
    "alpha = 0.05\n",
    "print(\"\\nTest Result:\")\n",
    "if p_value < alpha:\n",
    "    print(\"Reject the null hypothesis. There is a significant difference in the distribution.\")\n",
    "else:\n",
    "    print(\"Fail to reject the null hypothesis. The distribution matches the expected distribution.\")"
   ]
  },
  {
   "cell_type": "markdown",
   "metadata": {},
   "source": [
    "         Group A                 GroupB   \n",
    "\n",
    "Outcome 1    20                     15\n",
    "Outcome 2   10                      25\n",
    "Outcome 3   15                      20\n",
    "\n",
    "\n",
    "Q3. Use Python to calculate the chi-square statistic and p-value for a contingency table with the above data. \n",
    "Interpret the results of the test."
   ]
  },
  {
   "cell_type": "code",
   "execution_count": 5,
   "metadata": {},
   "outputs": [
    {
     "name": "stdout",
     "output_type": "stream",
     "text": [
      "Chi-Square Statistics: 5.833333333333334\n",
      "P-Value: 0.05411376622282158\n",
      "Degree of freedom: 2\n",
      "Expected frequency\n",
      "[[15. 20.]\n",
      " [15. 20.]\n",
      " [15. 20.]]\n",
      "The critical value: 5.991464547107979\n",
      "Fail to reject the null hypothesis. There is no significant association between the groupsd and the outcome\n"
     ]
    }
   ],
   "source": [
    "import numpy as np \n",
    "from scipy.stats import chi2_contingency, chi2\n",
    "\n",
    "#Given data\n",
    "data = np.array([[20,15],\n",
    "                 [10, 25],\n",
    "                 [15,20]])\n",
    "\n",
    "#Perform the chi-square test\n",
    "chi2_stat, p_value, dof, expected = chi2_contingency(data)\n",
    "\n",
    "#Output of the result\n",
    "print(f\"Chi-Square Statistics: {chi2_stat}\")\n",
    "print(f\"P-Value: {p_value}\")\n",
    "print(f\"Degree of freedom: {dof}\")\n",
    "print(f\"Expected frequency\")\n",
    "print(expected)\n",
    "\n",
    "#Check Significance\n",
    "alpha = 0.05\n",
    "critical_value = chi2.ppf(1-alpha,dof)\n",
    "\n",
    "print(f\"The critical value: {critical_value}\")\n",
    "\n",
    "#Compare Chi-Square Statistics with Critical Value\n",
    "if chi2_stat > critical_value:\n",
    "    print(\"Reject the null hypothesis. There is a significant association between the group and outcomes.\")\n",
    "else:\n",
    "    print(\"Fail to reject the null hypothesis. There is no significant association between the groupsd and the outcome\")"
   ]
  },
  {
   "cell_type": "markdown",
   "metadata": {},
   "source": [
    "Q4. A study of the prevalence of smoking in a population of 500 individuals found that 60 individuals\n",
    "smoked. Use Python to calculate the 95% confidence interval for the true proportion of individuals in the\n",
    "population who smoke."
   ]
  },
  {
   "cell_type": "code",
   "execution_count": 9,
   "metadata": {},
   "outputs": [
    {
     "name": "stdout",
     "output_type": "stream",
     "text": [
      "95% Confidence Interval: (0.0915, 0.1485)\n",
      "We are 95% confident that the true portion of smokers in the population is within the interval 0.09151638887130707 - 0.1484836111286929\n"
     ]
    }
   ],
   "source": [
    "import scipy.stats as stats\n",
    "import math\n",
    "\n",
    "# Given data\n",
    "total_population = 500\n",
    "smokers = 60\n",
    "\n",
    "# Calculate the sample proportion\n",
    "sample_proportion = smokers / total_population\n",
    "\n",
    "# Set the desired confidence level\n",
    "confidence_level = 0.95\n",
    "\n",
    "# Calculate the Z-score for the desired confidence level\n",
    "z_score = stats.norm.ppf((1 + confidence_level) / 2)\n",
    "\n",
    "# Calculate the standard error\n",
    "standard_error = math.sqrt((sample_proportion * (1 - sample_proportion)) / total_population)\n",
    "\n",
    "# Calculate the margin of error\n",
    "margin_of_error = z_score * standard_error\n",
    "\n",
    "# Calculate the confidence interval\n",
    "lower_bound = sample_proportion - margin_of_error\n",
    "upper_bound = sample_proportion + margin_of_error\n",
    "\n",
    "print(f\"95% Confidence Interval: ({lower_bound:.4f}, {upper_bound:.4f})\")\n",
    "print(f\"We are 95% confident that the true portion of smokers in the population is within the interval {lower_bound} - {upper_bound}\")"
   ]
  },
  {
   "cell_type": "code",
   "execution_count": 10,
   "metadata": {},
   "outputs": [],
   "source": [
    "#Q5. Calculate the 90% confidence interval for a sample of data with a mean of \n",
    "# 75 and a standard deviation of 12 using Python. Interpret the results."
   ]
  },
  {
   "cell_type": "code",
   "execution_count": 11,
   "metadata": {},
   "outputs": [
    {
     "name": "stdout",
     "output_type": "stream",
     "text": [
      "90% Confidence Interval: 71.39630625889797, 78.60369374110203\n"
     ]
    }
   ],
   "source": [
    "import scipy.stats as stats\n",
    "confidence_interval = 0.9\n",
    "mean = 75\n",
    "standard_deviation = 12\n",
    "sample_size = 30 #assumed\n",
    "\n",
    "critical_value = stats.norm.ppf((1+ confidence_interval)/2)\n",
    "\n",
    "margin_of_error = critical_value * (standard_deviation/(sample_size ** 0.5))\n",
    "\n",
    "lower_bound = mean - margin_of_error\n",
    "upper_bound = mean + margin_of_error\n",
    "\n",
    "print(f\"90% Confidence Interval: {lower_bound}, {upper_bound}\")"
   ]
  },
  {
   "cell_type": "code",
   "execution_count": 12,
   "metadata": {},
   "outputs": [
    {
     "data": {
      "text/plain": [
       "'\\nQ6. Use Python to plot the chi-square distribution with 10 degrees of freedom. Label the axes and shade the\\narea corresponding to a chi-square statistic of 15.\\n\\n'"
      ]
     },
     "execution_count": 12,
     "metadata": {},
     "output_type": "execute_result"
    }
   ],
   "source": [
    "'''\n",
    "Q6. Use Python to plot the chi-square distribution with 10 degrees of freedom. Label the axes and shade the\n",
    "area corresponding to a chi-square statistic of 15.\n",
    "\n",
    "'''"
   ]
  },
  {
   "cell_type": "code",
   "execution_count": 13,
   "metadata": {},
   "outputs": [
    {
     "data": {
      "text/plain": [
       "[<matplotlib.lines.Line2D at 0x26c19a2a3d0>]"
      ]
     },
     "execution_count": 13,
     "metadata": {},
     "output_type": "execute_result"
    },
    {
     "data": {
      "image/png": "[encoded data removed]",
      "text/plain": [
       "<Figure size 640x480 with 1 Axes>"
      ]
     },
     "metadata": {},
     "output_type": "display_data"
    }
   ],
   "source": [
    "import numpy as np\n",
    "import matplotlib.pyplot as plt\n",
    "from scipy.stats import chi2\n",
    "\n",
    "#x-axis ranges from 0 to 20 with .001 steps\n",
    "x = np.arange(0, 20, 0.001)\n",
    "\n",
    "#plot Chi-square distribution with 10 degrees of freedom\n",
    "plt.plot(x, chi2.pdf(x, df=10))"
   ]
  },
  {
   "cell_type": "markdown",
   "metadata": {},
   "source": [
    "Q7. A random sample of 1000 people was asked if they preferred Coke or Pepsi. Of the sample, 520\n",
    "preferred Coke. Calculate a 99% confidence interval for the true proportion of people in the population who\n",
    "prefer Coke."
   ]
  },
  {
   "cell_type": "code",
   "execution_count": 23,
   "metadata": {},
   "outputs": [
    {
     "name": "stdout",
     "output_type": "stream",
     "text": [
      " We are 99% confident that the true proportion of people in the population who prefer coke is within the interval 0.4793051576779699 - 0.5606948423220302\n"
     ]
    }
   ],
   "source": [
    "import scipy.stats as stats\n",
    "import math \n",
    "\n",
    "#Given data\n",
    "sample_proportion = 520 / 1000 # 0.52\n",
    "sample_size = 1000 \n",
    "\n",
    "#confidence level\n",
    "confidence_level = 0.99\n",
    "\n",
    "#calculate the z-score for the desired confidence level\n",
    "z_score = stats.norm.ppf((1 + confidence_level)/2)\n",
    "\n",
    "#calculate the standard error\n",
    "standard_error = math.sqrt((sample_proportion * (1 - sample_proportion))/sample_size )\n",
    "\n",
    "#calculate margin of error\n",
    "margin_of_error = z_score * standard_error\n",
    "\n",
    "#Calculate the confidence interval \n",
    "lower_bound = sample_proportion - margin_of_error\n",
    "upper_bound = sample_proportion  + margin_of_error\n",
    "\n",
    "print(f\" We are 99% confident that the true proportion of people in the population who prefer coke is within the interval {lower_bound} - {upper_bound}\")\n",
    "\n"
   ]
  },
  {
   "cell_type": "markdown",
   "metadata": {},
   "source": [
    "Q8. A researcher hypothesizes that a coin is biased towards tails. They flip the coin 100 times and observe\n",
    "45 tails. Conduct a chi-square goodness of fit test to determine if the observed frequencies match the\n",
    "expected frequencies of a fair coin. Use a significance level of 0.05."
   ]
  },
  {
   "cell_type": "code",
   "execution_count": 24,
   "metadata": {},
   "outputs": [
    {
     "name": "stdout",
     "output_type": "stream",
     "text": [
      "Chi-Square Statistics: 5.833333333333334\n",
      "P-Value: 0.31731050786291115\n",
      "We fail to reject the null hypothesis. There is no significant evidence that the coin is baised towards tail.\n"
     ]
    }
   ],
   "source": [
    "import scipy.stats as stats\n",
    "\n",
    "total_flips = 100\n",
    "obesrved_tail = 45\n",
    "observed_head = 55\n",
    "\n",
    "#Expected frequencies for a fair coin (50% heads, 50% tails) \n",
    "expected_tail = total_flips / 2\n",
    "expected_head = total_flips / 2\n",
    "\n",
    "observed_frequencies = [obesrved_tail, observed_head]\n",
    "expected_frequencies = [expected_tail, expected_head]\n",
    "\n",
    "alpha = 0.05\n",
    "\n",
    "chi2_stats, p_value = stats.chisquare(f_obs=observed_frequencies, f_exp=expected_frequencies)\n",
    "\n",
    "print(f\"Chi-Square Statistics: {chi2_stat}\")\n",
    "print(f\"P-Value: {p_value}\")\n",
    "\n",
    "#Check significance\n",
    "if p_value < alpha:\n",
    "    print(\"Reject the null hypothesis. There is evidence that the coin is baised towards tails.\")\n",
    "else:\n",
    "    print(\"We fail to reject the null hypothesis. There is no significant evidence that the coin is baised towards tail.\")\n",
    "\n",
    "\n"
   ]
  },
  {
   "cell_type": "markdown",
   "metadata": {},
   "source": [
    "Q9. A study was conducted to determine if there is an association between smoking status (smoker or\n",
    "non-smoker) and lung cancer diagnosis (yes or no). The results are shown in the contingency table below.\n",
    "Conduct a chi-square test for independence to determine if there is a significant association between\n",
    "smoking status and lung cancer diagnosis.\n",
    "Use a significance level of 0.05.\n",
    "\n",
    "                   Lung Cancer: Yes        Lung Cancer: No\n",
    "\n",
    "\n",
    "            Smoker                         60                     140\n",
    "            Non-smoker                      30                    170\n"
   ]
  },
  {
   "cell_type": "code",
   "execution_count": 3,
   "metadata": {},
   "outputs": [
    {
     "name": "stdout",
     "output_type": "stream",
     "text": [
      "Chi-Square Statistics: 12.057347670250895\n",
      "P-Value: 0.0005158863863703744\n",
      "Degree of freedom: 1\n",
      "Expected frequencies: \n",
      "[[ 45. 155.]\n",
      " [ 45. 155.]]\n",
      "\n",
      "Test Results:\n",
      "Reject the null hypothesis. There is a significant association between smoking status and cancer diagnosis.\n"
     ]
    }
   ],
   "source": [
    "import scipy.stats as stats\n",
    "import numpy as np\n",
    "\n",
    "#Given data in the contingency table\n",
    "observed_data = np.array([[60,140], [30,170]])\n",
    "\n",
    "#perform the chi-square test for independence\n",
    "chi2_stat, p_value, dof, expected = stats.chi2_contingency(observed_data)\n",
    "\n",
    "#output the results\n",
    "print(f\"Chi-Square Statistics: {chi2_stat}\")\n",
    "print(f\"P-Value: {p_value}\")\n",
    "print(f\"Degree of freedom: {dof}\")\n",
    "print(\"Expected frequencies: \")\n",
    "print(expected)\n",
    "\n",
    "#Check significance\n",
    "alpha = 0.05\n",
    "print(\"\\nTest Results:\")\n",
    "\n",
    "if p_value < alpha:\n",
    "    print(\"Reject the null hypothesis. There is a significant association between smoking status and cancer diagnosis.\")\n",
    "else:\n",
    "    print(\"Fail to reject the null hypothesis. There is no significant association between smoking and cancer diagnosis.\")\n",
    "    \n"
   ]
  },
  {
   "cell_type": "markdown",
   "metadata": {},
   "source": [
    "Q12. A random sample of 30 people was selected from a population with an unknown mean and standard\n",
    "deviation. The sample mean was found to be 72 and the sample standard deviation was found to be 10.\n",
    "Conduct a hypothesis test to determine if the population mean is significantly different from 70. Use a\n",
    "significance level of 0.05."
   ]
  },
  {
   "cell_type": "code",
   "execution_count": 4,
   "metadata": {},
   "outputs": [
    {
     "name": "stdout",
     "output_type": "stream",
     "text": [
      "T-Statistic: 1.0954451150103321\n",
      "Degrees of Freedom: 29\n",
      "Critical T-Value: 2.045229642132703\n",
      "P-Value: 0.2823362372860698\n",
      "\n",
      "Test Result:\n",
      "Fail to reject the null hypothesis. There is no significant evidence to suggest that the population mean is different from 70.\n"
     ]
    }
   ],
   "source": [
    "\n",
    "import scipy.stats as stats\n",
    "\n",
    "# Given data\n",
    "sample_mean = 72\n",
    "sample_std_dev = 10\n",
    "sample_size = 30\n",
    "population_mean_hypothesis = 70\n",
    "alpha = 0.05\n",
    "\n",
    "# Calculate the t-statistic\n",
    "t_statistic = (sample_mean - population_mean_hypothesis) / (sample_std_dev / (sample_size ** 0.5))\n",
    "\n",
    "# Calculate the degrees of freedom\n",
    "degrees_of_freedom = sample_size - 1\n",
    "\n",
    "# Calculate the critical t-value for a two-tailed test\n",
    "critical_t_value = stats.t.ppf(1 - alpha / 2, degrees_of_freedom)\n",
    "\n",
    "# Calculate the p-value\n",
    "p_value = 2 * (1 - stats.t.cdf(abs(t_statistic), degrees_of_freedom))\n",
    "\n",
    "# Output the results\n",
    "print(f\"T-Statistic: {t_statistic}\")\n",
    "print(f\"Degrees of Freedom: {degrees_of_freedom}\")\n",
    "print(f\"Critical T-Value: {critical_t_value}\")\n",
    "print(f\"P-Value: {p_value}\")\n",
    "\n",
    "# Check significance\n",
    "print(\"\\nTest Result:\")\n",
    "if abs(t_statistic) > critical_t_value or p_value < alpha:\n",
    "    print(\"Reject the null hypothesis. There is enough evidence to suggest that the population mean is significantly different from 70.\")\n",
    "else:\n",
    "    print(\"Fail to reject the null hypothesis. There is no significant evidence to suggest that the population mean is different from 70.\")\n",
    "\n"
   ]
  },
  {
   "cell_type": "code",
   "execution_count": null,
   "metadata": {},
   "outputs": [],
   "source": []
  },
  {
   "cell_type": "code",
   "execution_count": null,
   "metadata": {},
   "outputs": [],
   "source": [
    "\n"
   ]
  },
  {
   "cell_type": "code",
   "execution_count": null,
   "metadata": {},
   "outputs": [],
   "source": []
  },
  {
   "cell_type": "code",
   "execution_count": null,
   "metadata": {},
   "outputs": [],
   "source": [
    "\n",
    "\n"
   ]
  },
  {
   "cell_type": "code",
   "execution_count": null,
   "metadata": {},
   "outputs": [],
   "source": [
    "\n"
   ]
  },
  {
   "cell_type": "code",
   "execution_count": null,
   "metadata": {},
   "outputs": [],
   "source": []
  }
 ],
 "metadata": {
  "kernelspec": {
   "display_name": "Python 3",
   "language": "python",
   "name": "python3"
  },
  "language_info": {
   "codemirror_mode": {
    "name": "ipython",
    "version": 3
   },
   "file_extension": ".py",
   "mimetype": "text/x-python",
   "name": "python",
   "nbconvert_exporter": "python",
   "pygments_lexer": "ipython3",
   "version": "3.11.7"
  }
 },
 "nbformat": 4,
 "nbformat_minor": 2
}
